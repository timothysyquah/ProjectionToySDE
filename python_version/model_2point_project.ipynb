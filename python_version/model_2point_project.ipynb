{
 "cells": [
  {
   "cell_type": "code",
   "execution_count": 13,
   "metadata": {},
   "outputs": [
    {
     "name": "stdout",
     "output_type": "stream",
     "text": [
      "[[0.04054212-6.01412927e-03j 0.3851758 -9.30110811e-06j]]\n",
      "dg/dw [[-1996.3153034 -6.00130103j  -379.78237632-1.13274954j]]\n",
      "[[1995.3153034+6.00130103j 1995.3153034+6.00130103j]]\n",
      "[[10003.47152431+30.68458484j 10003.47152431+30.68458484j]]\n"
     ]
    }
   ],
   "source": [
    "#indepdent sdes implimentation \n",
    "import numpy as np\n",
    "from model_2point import *\n",
    "\n",
    "\n",
    "\n",
    "\n",
    "phiA= 0.5\n",
    "phiB = 1-phiA\n",
    "chi = 1.0\n",
    "rho0 = 1.0\n",
    "nx = 1\n",
    "zA = 1e3\n",
    "zB = 1e3\n",
    "tmax = 10\n",
    "dt = 1e-5\n",
    "zetalist = [0.0,0.1,0.5,1,2,5,10,100]\n",
    "\n",
    "# Generate arrays of complex numbers\n",
    "wplus = np.random.normal(0, 1, nx) + 0j * np.random.normal(0, 1, nx)\n",
    "wplus = wplus-np.mean(wplus)\n",
    "wminus = np.random.normal(0, 1, nx) + 0j * np.random.normal(0, 1, nx)\n",
    "w0 = np.vstack((wplus,wminus)).T\n",
    "lambda_plus = 1.0\n",
    "lambda_minus = 1.0\n",
    "_model = model(chi,rho0,ensemble='grand')\n",
    "_model.init_grandcanonical(zA,zB)\n",
    "#model.dHw(w)\n",
    "\n",
    "model_list = [_model.dHdw_compressible,_model.dHdw_weakcompressible,_model.dHdw_incompressible]\n",
    "lambdat = np.array([lambda_plus,lambda_minus])\n",
    "wlist = []\n",
    "corrlist = []\n",
    "sde = sde_int(w0,_model.dHdw_compressible,_model.wick)\n",
    "# sde.initialize_project(_model.g,_model.dgdw)\n",
    "w,t, = sde.Euler_Maruyama(2*dt,dt,lambdat,SCFT = False)\n",
    "print(w[-1])\n",
    "\n",
    "g = _model.g(w[-1])\n",
    "dgdw = _model.dgdw(w[-1])\n",
    "print('dg/dw',_model.dgdw(w[-1]))\n",
    "update = g/dgdw\n",
    "print(g)\n",
    "g = _model.g(w[-1]-update)\n",
    "print(g)\n",
    "corrlist.append(_model.getCorrelation_list(w))\n",
    "\n",
    "# sde = sde_int(w0,_model.dHdw_incompressible,_model.wick)\n",
    "# w,t, = sde.Euler_Maruyama(tmax,dt,lambdat,SCFT = False)\n",
    "# corrlist.append(_model.getCorrelation_list(w))"
   ]
  },
  {
   "cell_type": "code",
   "execution_count": 2,
   "metadata": {},
   "outputs": [
    {
     "name": "stderr",
     "output_type": "stream",
     "text": [
      "/home/timothy/anaconda3/envs/env_main/lib/python3.10/site-packages/matplotlib/cbook.py:1699: ComplexWarning: Casting complex values to real discards the imaginary part\n",
      "  return math.isfinite(val)\n",
      "/home/timothy/anaconda3/envs/env_main/lib/python3.10/site-packages/matplotlib/cbook.py:1345: ComplexWarning: Casting complex values to real discards the imaginary part\n",
      "  return np.asarray(x, float)\n"
     ]
    },
    {
     "data": {
      "text/plain": [
       "(-10.0, 5.0)"
      ]
     },
     "execution_count": 2,
     "metadata": {},
     "output_type": "execute_result"
    },
    {
     "data": {
      "image/png": "[encoded data removed]",
      "text/plain": [
       "<Figure size 600x600 with 1 Axes>"
      ]
     },
     "metadata": {},
     "output_type": "display_data"
    }
   ],
   "source": [
    "#process data get density profiles over time\n",
    "# plot <density^2>-<density>^2\n",
    "offset = 50\n",
    "label = ['compressible','incompressible']\n",
    "import matplotlib.pyplot as plt\n",
    "plt.figure(figsize = (6,6))\n",
    "\n",
    "for i, corr in enumerate(corrlist):\n",
    "    corr = np.array(corr)\n",
    "    plt.plot(t[offset:],np.linalg.det(corr[offset:,:,:])/rho0,label = label[i])\n",
    "    break\n",
    "plt.legend()\n",
    "plt.xlabel('Langevin Time')\n",
    "plt.ylabel(r'$\\det( \\left<\\delta\\rho_i \\delta\\rho_j\\right>-\\left<\\delta\\rho_i\\right> \\left< \\delta\\rho_j\\right>)$')\n",
    "plt.ylim(-10.0,5.0)\n",
    "\n"
   ]
  },
  {
   "cell_type": "code",
   "execution_count": null,
   "metadata": {},
   "outputs": [],
   "source": []
  }
 ],
 "metadata": {
  "kernelspec": {
   "display_name": "env_main",
   "language": "python",
   "name": "python3"
  },
  "language_info": {
   "codemirror_mode": {
    "name": "ipython",
    "version": 3
   },
   "file_extension": ".py",
   "mimetype": "text/x-python",
   "name": "python",
   "nbconvert_exporter": "python",
   "pygments_lexer": "ipython3",
   "version": "3.10.13"
  }
 },
 "nbformat": 4,
 "nbformat_minor": 2
}
