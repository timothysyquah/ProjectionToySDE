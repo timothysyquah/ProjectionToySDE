{
 "cells": [
  {
   "cell_type": "code",
   "execution_count": 1,
   "metadata": {},
   "outputs": [],
   "source": [
    "import numpy as np\n",
    "from model_2point import *\n"
   ]
  },
  {
   "cell_type": "code",
   "execution_count": null,
   "metadata": {},
   "outputs": [],
   "source": []
  },
  {
   "cell_type": "code",
   "execution_count": 2,
   "metadata": {},
   "outputs": [
    {
     "name": "stdout",
     "output_type": "stream",
     "text": [
      "[93.93077133-0.16315879j]\n",
      "[5.34582364e+307+6.45361095e+307j]\n",
      "[-inf+nanj]\n",
      "nan\n"
     ]
    },
    {
     "name": "stderr",
     "output_type": "stream",
     "text": [
      "/home/timothy/ProjectionToySDE/python_version/model_2point.py:7: RuntimeWarning: divide by zero encountered in divide\n",
      "  update= (gl(w0,lag_mult))/dgldl(w0,lag_mult)\n",
      "/home/timothy/ProjectionToySDE/python_version/model_2point.py:7: RuntimeWarning: invalid value encountered in divide\n",
      "  update= (gl(w0,lag_mult))/dgldl(w0,lag_mult)\n",
      "/home/timothy/ProjectionToySDE/python_version/model_2point.py:12: RuntimeWarning: invalid value encountered in divide\n",
      "  update[loc] = update[loc]/np.abs(update[loc])*maxupdate\n"
     ]
    }
   ],
   "source": [
    "\n",
    "\n",
    "# Example usage:\n",
    "# Define the function whose root is\n",
    "\n",
    "phiA= 0.5\n",
    "phiB = 1-phiA\n",
    "chi = 1.0\n",
    "rho0 = 100.0\n",
    "nx = 1\n",
    "zA = 1\n",
    "zB = 1\n",
    "tmax = 1.0\n",
    "dt = 0.001\n",
    "tol = 1e-10\n",
    "maxiter = 1000\n",
    "maxupdate = 10\n",
    "np.random.seed(77)\n",
    "# Generate arrays of complex numbers\n",
    "wplus = np.random.normal(0, 1, nx) + 0j * np.random.normal(0, 1, nx)\n",
    "wplus = wplus-np.mean(wplus)\n",
    "wminus = np.random.normal(0, 1, nx) + 0j * np.random.normal(0, 1, nx)\n",
    "w0 = np.vstack((wplus,wminus)).T\n",
    "lambda_plus = 1.0\n",
    "lambda_minus = 1.0\n",
    "_model = model(chi,rho0,ensemble='grand')\n",
    "_model.init_grandcanonical(zA,zB)\n",
    "\n",
    "model_list = [_model.dHdw_compressible,_model.dHdw_weakcompressible,_model.dHdw_incompressible]\n",
    "lambdat = np.array([lambda_plus,lambda_minus])\n",
    "wlist = []\n",
    "corrlist = []\n",
    "sde = sde_int(w0,_model.dHdw_compressible,_model.wick,ensemble = 'grand')\n",
    "sde.initialize_project(_model.dgdw,_model.gl,_model.dgldl,tol,maxiter,maxupdate)\n",
    "w,t, = sde.Euler_Maruyama_Projected(tmax,dt,lambdat,SCFT = False)\n"
   ]
  },
  {
   "cell_type": "markdown",
   "metadata": {},
   "source": []
  },
  {
   "cell_type": "code",
   "execution_count": 3,
   "metadata": {},
   "outputs": [
    {
     "name": "stderr",
     "output_type": "stream",
     "text": [
      "No artists with labels found to put in legend.  Note that artists whose label start with an underscore are ignored when legend() is called with no argument.\n"
     ]
    },
    {
     "data": {
      "text/plain": [
       "Text(0, 0.5, '$\\\\det( \\\\left<\\\\delta\\\\rho_i \\\\delta\\\\rho_j\\\\right>-\\\\left<\\\\delta\\\\rho_i\\\\right> \\\\left< \\\\delta\\\\rho_j\\\\right>)$')"
      ]
     },
     "execution_count": 3,
     "metadata": {},
     "output_type": "execute_result"
    },
    {
     "data": {
      "image/png": "[encoded data removed]",
      "text/plain": [
       "<Figure size 600x600 with 1 Axes>"
      ]
     },
     "metadata": {},
     "output_type": "display_data"
    }
   ],
   "source": [
    "offset = 50\n",
    "label = ['compressible','weak compressible','incompressible']\n",
    "import matplotlib.pyplot as plt\n",
    "plt.figure(figsize = (6,6))\n",
    "\n",
    "for i, corr in enumerate(corrlist):\n",
    "    corr = np.array(corr)\n",
    "    plt.plot(t[offset:],np.linalg.det(corr[offset:,:,:])/rho0,label = label[i])\n",
    "plt.legend()\n",
    "plt.xlabel('Langevin Time')\n",
    "plt.ylabel(r'$\\det( \\left<\\delta\\rho_i \\delta\\rho_j\\right>-\\left<\\delta\\rho_i\\right> \\left< \\delta\\rho_j\\right>)$')\n",
    "# plt.ylim(-10.0,5.0)\n",
    "\n"
   ]
  }
 ],
 "metadata": {
  "kernelspec": {
   "display_name": "env_main",
   "language": "python",
   "name": "python3"
  },
  "language_info": {
   "codemirror_mode": {
    "name": "ipython",
    "version": 3
   },
   "file_extension": ".py",
   "mimetype": "text/x-python",
   "name": "python",
   "nbconvert_exporter": "python",
   "pygments_lexer": "ipython3",
   "version": "3.10.13"
  }
 },
 "nbformat": 4,
 "nbformat_minor": 2
}
